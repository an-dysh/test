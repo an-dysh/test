{
    "cells": [
        {
            "cell_type": "markdown",
            "metadata": {
                "collapsed": true
            },
            "source": "# My Jupyter Notebook in Notebook on IBM Watson Studio "
        },
        {
            "cell_type": "markdown",
            "metadata": {},
            "source": "**Anastasia Dyshliuk**"
        },
        {
            "cell_type": "markdown",
            "metadata": {},
            "source": "*I am interested in data science because I am very curious*"
        },
        {
            "cell_type": "markdown",
            "metadata": {},
            "source": "### The following code print \"Hi everyone!\" ###"
        },
        {
            "cell_type": "code",
            "execution_count": 2,
            "metadata": {},
            "outputs": [
                {
                    "name": "stdout",
                    "output_type": "stream",
                    "text": "Hi everyone!\n"
                }
            ],
            "source": "print(\"Hi everyone!\")"
        },
        {
            "cell_type": "markdown",
            "metadata": {},
            "source": "1. First item\n2. Second item\n3. Third item"
        },
        {
            "cell_type": "markdown",
            "metadata": {},
            "source": "***"
        },
        {
            "cell_type": "markdown",
            "metadata": {},
            "source": "My favorite search engine is *[GOOGLE](https://www.google.com/)*"
        },
        {
            "cell_type": "code",
            "execution_count": null,
            "metadata": {},
            "outputs": [],
            "source": ""
        }
    ],
    "metadata": {
        "kernelspec": {
            "display_name": "Python 3.9",
            "language": "python",
            "name": "python3"
        },
        "language_info": {
            "codemirror_mode": {
                "name": "ipython",
                "version": 3
            },
            "file_extension": ".py",
            "mimetype": "text/x-python",
            "name": "python",
            "nbconvert_exporter": "python",
            "pygments_lexer": "ipython3",
            "version": "3.9.7"
        }
    },
    "nbformat": 4,
    "nbformat_minor": 1
}